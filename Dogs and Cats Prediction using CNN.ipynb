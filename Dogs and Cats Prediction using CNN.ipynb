{
 "cells": [
  {
   "cell_type": "code",
   "execution_count": 1,
   "metadata": {},
   "outputs": [],
   "source": [
    "import pandas as pd\n",
    "import tensorflow as tf\n",
    "from keras.preprocessing.image import ImageDataGenerator\n"
   ]
  },
  {
   "cell_type": "markdown",
   "metadata": {},
   "source": [
    "# Preprocessing training Data"
   ]
  },
  {
   "cell_type": "code",
   "execution_count": 2,
   "metadata": {},
   "outputs": [
    {
     "name": "stdout",
     "output_type": "stream",
     "text": [
      "Found 8000 images belonging to 2 classes.\n"
     ]
    }
   ],
   "source": [
    "train_datagen = ImageDataGenerator(\n",
    "        rescale=1./255,\n",
    "        shear_range=0.2,\n",
    "        zoom_range=0.2,\n",
    "        horizontal_flip=True)\n",
    "training_set = train_datagen.flow_from_directory(\n",
    "        'C:\\\\Users\\\\sunrise\\\\Desktop\\\\Deep Learning\\\\CNN\\\\Section 40 - Convolutional Neural Networks (CNN)\\\\dataset\\\\training_set',\n",
    "        target_size=(64, 64),\n",
    "        batch_size=32,\n",
    "        class_mode='binary')"
   ]
  },
  {
   "cell_type": "markdown",
   "metadata": {},
   "source": [
    "# Preprocessing the test data"
   ]
  },
  {
   "cell_type": "code",
   "execution_count": 3,
   "metadata": {},
   "outputs": [
    {
     "name": "stdout",
     "output_type": "stream",
     "text": [
      "Found 2000 images belonging to 2 classes.\n"
     ]
    }
   ],
   "source": [
    "test_datagen = ImageDataGenerator(rescale=1./255)\n",
    "test_data = test_datagen.flow_from_directory(\n",
    "        'C:\\\\Users\\\\sunrise\\\\Desktop\\\\Deep Learning\\\\CNN\\\\Section 40 - Convolutional Neural Networks (CNN)\\\\dataset\\\\test_set',\n",
    "        target_size=(64, 64),\n",
    "        batch_size=32,\n",
    "        class_mode='binary')"
   ]
  },
  {
   "cell_type": "code",
   "execution_count": 4,
   "metadata": {},
   "outputs": [],
   "source": [
    "cnn=tf.keras.models.Sequential()"
   ]
  },
  {
   "cell_type": "code",
   "execution_count": 5,
   "metadata": {},
   "outputs": [],
   "source": [
    "cnn.add(tf.keras.layers.Conv2D(filters=32,kernel_size=3,activation=\"relu\",input_shape=[64,64,3]))"
   ]
  },
  {
   "cell_type": "code",
   "execution_count": 6,
   "metadata": {},
   "outputs": [],
   "source": [
    "cnn.add(tf.keras.layers.MaxPool2D(pool_size=2,strides=2))"
   ]
  },
  {
   "cell_type": "markdown",
   "metadata": {},
   "source": [
    "# adding the second layer"
   ]
  },
  {
   "cell_type": "code",
   "execution_count": 7,
   "metadata": {},
   "outputs": [],
   "source": [
    "cnn.add(tf.keras.layers.Conv2D(filters=32,kernel_size=3,activation='relu'))\n",
    "cnn.add(tf.keras.layers.MaxPool2D(pool_size=2,strides=2))"
   ]
  },
  {
   "cell_type": "code",
   "execution_count": 8,
   "metadata": {},
   "outputs": [],
   "source": [
    "cnn.add(tf.keras.layers.Flatten())"
   ]
  },
  {
   "cell_type": "markdown",
   "metadata": {},
   "source": [
    "# Output Layer"
   ]
  },
  {
   "cell_type": "code",
   "execution_count": 9,
   "metadata": {},
   "outputs": [],
   "source": [
    "cnn.add(tf.keras.layers.Dense(units=128,activation=\"relu\"))"
   ]
  },
  {
   "cell_type": "code",
   "execution_count": 10,
   "metadata": {},
   "outputs": [],
   "source": [
    "cnn.add(tf.keras.layers.Dense(units=1,activation=\"sigmoid\"))"
   ]
  },
  {
   "cell_type": "markdown",
   "metadata": {},
   "source": [
    "# Training the model"
   ]
  },
  {
   "cell_type": "code",
   "execution_count": 11,
   "metadata": {},
   "outputs": [],
   "source": [
    "cnn.compile(optimizer=\"adam\",loss=\"binary_crossentropy\",metrics=[\"accuracy\"])"
   ]
  },
  {
   "cell_type": "code",
   "execution_count": 12,
   "metadata": {},
   "outputs": [
    {
     "name": "stdout",
     "output_type": "stream",
     "text": [
      "Epoch 1/25\n",
      "250/250 [==============================] - 256s 1s/step - loss: 0.6921 - accuracy: 0.5211 - val_loss: 0.6604 - val_accuracy: 0.6220\n",
      "Epoch 2/25\n",
      "250/250 [==============================] - 123s 494ms/step - loss: 0.6542 - accuracy: 0.6150 - val_loss: 0.6131 - val_accuracy: 0.6800\n",
      "Epoch 3/25\n",
      "250/250 [==============================] - 118s 472ms/step - loss: 0.6190 - accuracy: 0.6564 - val_loss: 0.5867 - val_accuracy: 0.7040\n",
      "Epoch 4/25\n",
      "250/250 [==============================] - 124s 496ms/step - loss: 0.5769 - accuracy: 0.6879 - val_loss: 0.6019 - val_accuracy: 0.6845\n",
      "Epoch 5/25\n",
      "250/250 [==============================] - 115s 459ms/step - loss: 0.5591 - accuracy: 0.7171 - val_loss: 0.5546 - val_accuracy: 0.7045\n",
      "Epoch 6/25\n",
      "250/250 [==============================] - 142s 567ms/step - loss: 0.5200 - accuracy: 0.7368 - val_loss: 0.4966 - val_accuracy: 0.7605\n",
      "Epoch 7/25\n",
      "250/250 [==============================] - 113s 451ms/step - loss: 0.5000 - accuracy: 0.7607 - val_loss: 0.5036 - val_accuracy: 0.7665\n",
      "Epoch 8/25\n",
      "250/250 [==============================] - 122s 490ms/step - loss: 0.4899 - accuracy: 0.7618 - val_loss: 0.4932 - val_accuracy: 0.7720\n",
      "Epoch 9/25\n",
      "250/250 [==============================] - 117s 470ms/step - loss: 0.4585 - accuracy: 0.7819 - val_loss: 0.5003 - val_accuracy: 0.7660\n",
      "Epoch 10/25\n",
      "250/250 [==============================] - 110s 440ms/step - loss: 0.4323 - accuracy: 0.7951 - val_loss: 0.4755 - val_accuracy: 0.7820\n",
      "Epoch 11/25\n",
      "250/250 [==============================] - 164s 657ms/step - loss: 0.4127 - accuracy: 0.8089 - val_loss: 0.4697 - val_accuracy: 0.7840\n",
      "Epoch 12/25\n",
      "250/250 [==============================] - 146s 582ms/step - loss: 0.3960 - accuracy: 0.8155 - val_loss: 0.4782 - val_accuracy: 0.7785\n",
      "Epoch 13/25\n",
      "250/250 [==============================] - 150s 599ms/step - loss: 0.3899 - accuracy: 0.8165 - val_loss: 0.4786 - val_accuracy: 0.7895\n",
      "Epoch 14/25\n",
      "250/250 [==============================] - 94s 375ms/step - loss: 0.3633 - accuracy: 0.8328 - val_loss: 0.4833 - val_accuracy: 0.7905\n",
      "Epoch 15/25\n",
      "250/250 [==============================] - 92s 368ms/step - loss: 0.3433 - accuracy: 0.8476 - val_loss: 0.4829 - val_accuracy: 0.7955\n",
      "Epoch 16/25\n",
      "250/250 [==============================] - 89s 354ms/step - loss: 0.3468 - accuracy: 0.8467 - val_loss: 0.5036 - val_accuracy: 0.7900\n",
      "Epoch 17/25\n",
      "250/250 [==============================] - 88s 353ms/step - loss: 0.3073 - accuracy: 0.8688 - val_loss: 0.5172 - val_accuracy: 0.7860\n",
      "Epoch 18/25\n",
      "250/250 [==============================] - 88s 353ms/step - loss: 0.2976 - accuracy: 0.8740 - val_loss: 0.4852 - val_accuracy: 0.7985\n",
      "Epoch 19/25\n",
      "250/250 [==============================] - 85s 340ms/step - loss: 0.2871 - accuracy: 0.8810 - val_loss: 0.5070 - val_accuracy: 0.7810\n",
      "Epoch 20/25\n",
      "250/250 [==============================] - 87s 347ms/step - loss: 0.2701 - accuracy: 0.8865 - val_loss: 0.5794 - val_accuracy: 0.7800\n",
      "Epoch 21/25\n",
      "250/250 [==============================] - 90s 360ms/step - loss: 0.2590 - accuracy: 0.8928 - val_loss: 0.5321 - val_accuracy: 0.7840\n",
      "Epoch 22/25\n",
      "250/250 [==============================] - 88s 352ms/step - loss: 0.2299 - accuracy: 0.9027 - val_loss: 0.5470 - val_accuracy: 0.7850\n",
      "Epoch 23/25\n",
      "250/250 [==============================] - 87s 349ms/step - loss: 0.2253 - accuracy: 0.9103 - val_loss: 0.5362 - val_accuracy: 0.7835\n",
      "Epoch 24/25\n",
      "250/250 [==============================] - 86s 345ms/step - loss: 0.2059 - accuracy: 0.9224 - val_loss: 0.5508 - val_accuracy: 0.7830\n",
      "Epoch 25/25\n",
      "250/250 [==============================] - 90s 359ms/step - loss: 0.2103 - accuracy: 0.9140 - val_loss: 0.6321 - val_accuracy: 0.7865\n"
     ]
    },
    {
     "data": {
      "text/plain": [
       "<tensorflow.python.keras.callbacks.History at 0x28c62181a90>"
      ]
     },
     "execution_count": 12,
     "metadata": {},
     "output_type": "execute_result"
    }
   ],
   "source": [
    "cnn.fit(x=training_set,validation_data=test_data,epochs=25)"
   ]
  },
  {
   "cell_type": "markdown",
   "metadata": {},
   "source": [
    "# Making a Prediction"
   ]
  },
  {
   "cell_type": "code",
   "execution_count": 13,
   "metadata": {},
   "outputs": [],
   "source": [
    "import numpy as np\n",
    "from keras.preprocessing import image\n"
   ]
  },
  {
   "cell_type": "code",
   "execution_count": 14,
   "metadata": {},
   "outputs": [],
   "source": [
    "test_img=image.load_img(\"E:\\\\Deep Learning\\\\single_prediction\\\\cat_or_dog_1.jpg\",target_size=(64,64))\n",
    "test_img=image.img_to_array(test_img)\n",
    "test_img=np.expand_dims(test_img,axis=0)\n",
    "result=cnn.predict(test_img)\n",
    "training_set.class_indices\n",
    "if result[0][0]==1:\n",
    "    prediction=\"dog\"\n",
    "else:\n",
    "    prediction=\"cat\"\n"
   ]
  },
  {
   "cell_type": "code",
   "execution_count": 16,
   "metadata": {},
   "outputs": [
    {
     "name": "stdout",
     "output_type": "stream",
     "text": [
      "dog\n"
     ]
    }
   ],
   "source": [
    "print(prediction)"
   ]
  },
  {
   "cell_type": "code",
   "execution_count": 18,
   "metadata": {},
   "outputs": [],
   "source": [
    "test_img=image.load_img(\"C:\\\\Users\\\\sunrise\\\\Desktop\\\\Deep Learning\\\\CNN\\\\Section 40 - Convolutional Neural Networks (CNN)\\\\dataset\\\\single_prediction_2\\\\cat_or_dog_2.jpg\",target_size=(64,64))\n",
    "test_img=image.img_to_array(test_img)\n",
    "test_img=np.expand_dims(test_img,axis=0)\n",
    "result=cnn.predict(test_img)\n",
    "training_set.class_indices\n",
    "if result[0][0]==1:\n",
    "    prediction=\"dog\"\n",
    "else:\n",
    "    prediction=\"cat\""
   ]
  },
  {
   "cell_type": "code",
   "execution_count": 19,
   "metadata": {},
   "outputs": [
    {
     "name": "stdout",
     "output_type": "stream",
     "text": [
      "cat\n"
     ]
    }
   ],
   "source": [
    "print(prediction)"
   ]
  },
  {
   "cell_type": "code",
   "execution_count": null,
   "metadata": {},
   "outputs": [],
   "source": []
  }
 ],
 "metadata": {
  "kernelspec": {
   "display_name": "Python 3",
   "language": "python",
   "name": "python3"
  },
  "language_info": {
   "codemirror_mode": {
    "name": "ipython",
    "version": 3
   },
   "file_extension": ".py",
   "mimetype": "text/x-python",
   "name": "python",
   "nbconvert_exporter": "python",
   "pygments_lexer": "ipython3",
   "version": "3.8.3"
  }
 },
 "nbformat": 4,
 "nbformat_minor": 4
}
